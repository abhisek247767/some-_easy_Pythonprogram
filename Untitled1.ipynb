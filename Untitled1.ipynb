{
  "nbformat": 4,
  "nbformat_minor": 0,
  "metadata": {
    "colab": {
      "name": "Untitled1.ipynb",
      "provenance": [],
      "authorship_tag": "ABX9TyPcs7qPA2O6Cf+dLAqCz+0Y",
      "include_colab_link": true
    },
    "kernelspec": {
      "name": "python3",
      "display_name": "Python 3"
    },
    "language_info": {
      "name": "python"
    }
  },
  "cells": [
    {
      "cell_type": "markdown",
      "metadata": {
        "id": "view-in-github",
        "colab_type": "text"
      },
      "source": [
        "<a href=\"https://colab.research.google.com/github/abhisek247767/Pythonprogram/blob/main/Untitled1.ipynb\" target=\"_parent\"><img src=\"https://colab.research.google.com/assets/colab-badge.svg\" alt=\"Open In Colab\"/></a>"
      ]
    },
    {
      "cell_type": "code",
      "metadata": {
        "colab": {
          "base_uri": "https://localhost:8080/"
        },
        "id": "3oSU2l5NUenn",
        "outputId": "538ad214-10a6-4af1-ac53-97b1a0cbb38a"
      },
      "source": [
        "# 1. Write a program in python to find the Size of fundamental data types.\n",
        "\n",
        "print(type(10))\n",
        "print(type(10.10))\n",
        "print(type(\"10\"))\n",
        "print(type(\"AbhisekRoy\"))\n",
        "print(type(2+5j))"
      ],
      "execution_count": null,
      "outputs": [
        {
          "output_type": "stream",
          "name": "stdout",
          "text": [
            "<class 'int'>\n",
            "<class 'float'>\n",
            "<class 'str'>\n",
            "<class 'str'>\n",
            "<class 'complex'>\n"
          ]
        }
      ]
    },
    {
      "cell_type": "code",
      "metadata": {
        "colab": {
          "base_uri": "https://localhost:8080/"
        },
        "id": "q0eMqDxzXG2N",
        "outputId": "8d5a5b5a-d9a6-45d8-e2e4-07c66d675df2"
      },
      "source": [
        "x = float(input('Enter value of x: '))\n",
        "y = float(input('Enter value of y: '))\n",
        "\n",
        "# create a temporary variable and swap the values\n",
        "x =x+y\n",
        "y =x-y\n",
        "x =x-y\n",
        "\n",
        "print('The value of x after swapping: ',x)\n",
        "print('The value of y after swapping: ',y)"
      ],
      "execution_count": null,
      "outputs": [
        {
          "output_type": "stream",
          "name": "stdout",
          "text": [
            "Enter value of x: 63\n",
            "Enter value of y: 45\n",
            "The value of x after swapping:  45.0\n",
            "The value of y after swapping:  63.0\n"
          ]
        }
      ]
    },
    {
      "cell_type": "code",
      "metadata": {
        "id": "Uk5xge5YYSxS"
      },
      "source": [
        ""
      ],
      "execution_count": null,
      "outputs": []
    },
    {
      "cell_type": "code",
      "metadata": {
        "colab": {
          "base_uri": "https://localhost:8080/"
        },
        "id": "mzN4QFtgYXcm",
        "outputId": "9fbd0cec-63f7-48e5-e9c6-5caf0caaed9d"
      },
      "source": [
        "# Write a program in python to calculate the volume of a sphere.\n",
        "pi = 3.1415926535897931\n",
        "r= float(input(\"Enter the radius of sphere: \"))\n",
        "V= 4.0/3.0*pi* r**3\n",
        "print('The volume of the sphere is: ',V)\n"
      ],
      "execution_count": null,
      "outputs": [
        {
          "output_type": "stream",
          "name": "stdout",
          "text": [
            "Enter the radius of sphere: 5\n",
            "The volume of the sphere is:  523.5987755982989\n"
          ]
        }
      ]
    },
    {
      "cell_type": "code",
      "metadata": {
        "colab": {
          "base_uri": "https://localhost:8080/"
        },
        "id": "yZJX4_k0ejw1",
        "outputId": "a0df4960-83ba-4695-fd8e-bf0b8071f91d"
      },
      "source": [
        "# Write a program in python to convert temperature in Fahrenheit to Celsius.\n",
        "temperature = float(input(\"Enter temperature in fahrenheit: \"))\n",
        "celsius = (temperature - 32) * 5 / 9\n",
        "print(\"Temperature in celsius: \" , celsius)"
      ],
      "execution_count": null,
      "outputs": [
        {
          "output_type": "stream",
          "name": "stdout",
          "text": [
            "Enter temperature in fahrenheit: 44\n",
            "Temperature in celsius:  6.666666666666667\n"
          ]
        }
      ]
    },
    {
      "cell_type": "code",
      "metadata": {
        "colab": {
          "base_uri": "https://localhost:8080/"
        },
        "id": "2m4bR8BGgLWu",
        "outputId": "4b713362-b420-47c6-c081-0fcbb141b2be"
      },
      "source": [
        "# Take 10 integer inputs from the user and store them in an array and print them on screen.\n",
        "lst = []\n",
        "n = int(input(\"Enter number of elements : \"))\n",
        "for i in range(0, n):\n",
        "\tele = int(input())\n",
        "\tlst.append(ele) # adding the element\n",
        "\t\n",
        "print(lst)\n"
      ],
      "execution_count": null,
      "outputs": [
        {
          "output_type": "stream",
          "name": "stdout",
          "text": [
            "Enter number of elements : 3\n",
            "5\n",
            "9\n",
            "7\n",
            "[5, 9, 7]\n"
          ]
        }
      ]
    },
    {
      "cell_type": "code",
      "metadata": {
        "id": "JYr9sGC2hi0n",
        "colab": {
          "base_uri": "https://localhost:8080/"
        },
        "outputId": "646b58ad-b438-4581-b092-6a90be13f17a"
      },
      "source": [
        "# Take 20 integer inputs from the user and print the following:\n",
        "#number of positive numbers\n",
        "#number of negative numbers\n",
        "#number of odd numbers\n",
        "#number of even numbers\n",
        "#number of 0.\n",
        "\n",
        "\n",
        "List = []\n",
        "for i in range(10):\n",
        " number = int(input(\"Enter numbers : \"))\n",
        " List.append(number)\n",
        "print(List)\n",
        "count_pos=0\n",
        "count_zero=0\n",
        "count_neg=0\n",
        "count_even=0\n",
        "count_odd=0\n",
        "for i in List:\n",
        " if i>0:\n",
        "  count_pos+=1\n",
        " elif i==0:\n",
        "  count_zero+=1\n",
        " else:\n",
        "  count_neg+=1\n",
        "print(\"Number of Positive element : \",count_pos)\n",
        "print(\"Number of Zero element : \",count_zero)\n",
        "print(\"Number of Negative element : \",count_neg)\n",
        "for i in List:\n",
        " if i%2==0:\n",
        "  count_even+=1\n",
        " else:\n",
        "  count_odd+=1\n",
        "print(\"Number of Even element : \",count_even)\n",
        "print(\"Number of Odd element : \",count_odd)\n",
        "\n"
      ],
      "execution_count": 47,
      "outputs": [
        {
          "output_type": "stream",
          "name": "stdout",
          "text": [
            "Enter numbers : 5\n",
            "Enter numbers : 6\n",
            "Enter numbers : 77\n",
            "Enter numbers : 88\n",
            "Enter numbers : 0\n",
            "Enter numbers : 0\n",
            "Enter numbers : 9\n",
            "Enter numbers : 10000\n",
            "Enter numbers : 84\n",
            "Enter numbers : 33\n",
            "[5, 6, 77, 88, 0, 0, 9, 10000, 84, 33]\n",
            "Number of Positive element :  8\n",
            "Number of Zero element :  2\n",
            "Number of Negative element :  0\n",
            "Number of Even element :  6\n",
            "Number of Odd element :  4\n"
          ]
        }
      ]
    },
    {
      "cell_type": "code",
      "metadata": {
        "id": "1i8AK031aIUe",
        "colab": {
          "base_uri": "https://localhost:8080/"
        },
        "outputId": "e25f5ee9-96b8-4633-bc73-d71ea89acbfa"
      },
      "source": [
        "# Write a program to print sum, average of all numbers, smallest and largest element of an array.\n",
        "arr = [1, 9, 3, 27, 48, 100];\n",
        "sum=0\n",
        "min = arr[0]\n",
        "max = arr[0]\n",
        "for i in range(0, len(arr)):\n",
        "  sum = sum+arr[i];\n",
        "  Average = sum/len(arr)\n",
        "  if(arr[i] < min):\n",
        "      min = arr[i];\n",
        "  if(arr[i] > max):\n",
        "    max = arr[i];\n",
        "print(\"SUM of array element : \",sum)\n",
        "print(\"Average of array element : \",Average)\n",
        "print(\"Smallest element in array : \",min)\n",
        "print(\"Largest element in array : \",max)\n"
      ],
      "execution_count": 45,
      "outputs": [
        {
          "output_type": "stream",
          "name": "stdout",
          "text": [
            "SUM of array element :  188\n",
            "Average of array element :  31.333333333333332\n",
            "Smallest element in array :  1\n",
            "Largest element in array :  100\n"
          ]
        }
      ]
    },
    {
      "cell_type": "code",
      "metadata": {
        "colab": {
          "base_uri": "https://localhost:8080/"
        },
        "id": "c41zDYsB6MYJ",
        "outputId": "b58f7d40-a30a-40d0-f09b-7c25fad04bce"
      },
      "source": [
        "# Write a program to print every character of a string entered by the user in a new line using a loop.\n",
        "string = input(\"Please Enter your String : \")\n",
        " \n",
        "for i in range(len(string)):\n",
        "    print(\"The Character at %d Index Position = %c\" %(i, string[i]))"
      ],
      "execution_count": 48,
      "outputs": [
        {
          "output_type": "stream",
          "name": "stdout",
          "text": [
            "Please Enter your String : Abhisek\n",
            "The Character at 0 Index Position = A\n",
            "The Character at 1 Index Position = b\n",
            "The Character at 2 Index Position = h\n",
            "The Character at 3 Index Position = i\n",
            "The Character at 4 Index Position = s\n",
            "The Character at 5 Index Position = e\n",
            "The Character at 6 Index Position = k\n"
          ]
        }
      ]
    },
    {
      "cell_type": "code",
      "metadata": {
        "colab": {
          "base_uri": "https://localhost:8080/"
        },
        "id": "RWiTQVFzDdOk",
        "outputId": "427cf9bb-312e-4eb7-ffc6-5199d727d6b6"
      },
      "source": [
        "# Write a program to print every character of a string entered by the user in a new line using a loop.\n",
        "print(\"Enter your favourite string : \")\n",
        "s = input()\n",
        "for i in range(len(s)):\n",
        " print(s[i])"
      ],
      "execution_count": 50,
      "outputs": [
        {
          "output_type": "stream",
          "name": "stdout",
          "text": [
            "Enter your favourite string : \n",
            "RoyAbhisek\n",
            "R\n",
            "o\n",
            "y\n",
            "A\n",
            "b\n",
            "h\n",
            "i\n",
            "s\n",
            "e\n",
            "k\n"
          ]
        }
      ]
    },
    {
      "cell_type": "code",
      "metadata": {
        "id": "edJKr8uIElLp"
      },
      "source": [
        "# Input a string of alphabets. Find out the number of occurrences of all alphabets in that string. Find out the alphabet with maximum occurrence.\n",
        "print(\"Enter a string-->\")\n",
        "s=input()\n",
        "d={}\n",
        "for i in s:\n",
        " if i in d:\n",
        "  d[i]+=1\n",
        " else:\n",
        "  d[i]=1\n",
        "print(\"no of times every charecter print : \")\n",
        "print(d)\n",
        "max_p=  max(d.values())\n",
        "print(\"maximum occurance\")\n",
        "for i in d:\n",
        " if d[i]==max_p:\n",
        "  print(i,d[i])"
      ],
      "execution_count": null,
      "outputs": []
    },
    {
      "cell_type": "code",
      "metadata": {
        "colab": {
          "base_uri": "https://localhost:8080/"
        },
        "id": "0wt3AeJCIxui",
        "outputId": "c80c4be4-b505-4c28-d861-dd51e7000652"
      },
      "source": [
        "#Write a program to reverse a string (use your name as input) with and without using any predefined function.\n",
        "print(\"ENTER A STRING\")\n",
        "s=input()\n",
        "print(\"FIRST METHOD TO REVERSE THE STRING : \")\n",
        "r = s[::-1]\n",
        "print(r)\n",
        "print(\"SECOND METHOD TO REVERSE STRING\")\n",
        "z=\"\"\n",
        "for i in range(len(s)-1,-1,-1):\n",
        " z+=s[i]\n",
        "print(z)"
      ],
      "execution_count": 63,
      "outputs": [
        {
          "output_type": "stream",
          "name": "stdout",
          "text": [
            "ENTER A STRING\n",
            "ABHISEKROY\n",
            "FIRST METHOD TO REVERSE THE STRING : \n",
            "YORKESIHBA\n",
            "SECOND METHOD TO REVERSE STRING\n",
            "YORKESIHBA\n"
          ]
        }
      ]
    },
    {
      "cell_type": "code",
      "metadata": {
        "colab": {
          "base_uri": "https://localhost:8080/"
        },
        "id": "H3XoJy4oJ_45",
        "outputId": "fcad44fb-0d84-4e06-9f05-d76b71243864"
      },
      "source": [
        "# Write a program to print the names of students by creating a Student class. If no name is passed while creating an object of the Student class, then the name should be \"Unknown\", otherwise the name should be equal to the String value passed while creating the object of the Student class.\n",
        "class student:\n",
        " def name(self,name=None):\n",
        "    if name is not None:\n",
        "      print(name)\n",
        "    else:\n",
        "      print(\"unknown\")\n",
        "obj = student()\n",
        "obj.name()\n",
        "obj.name(\"Abhisek\")"
      ],
      "execution_count": 67,
      "outputs": [
        {
          "output_type": "stream",
          "name": "stdout",
          "text": [
            "unknown\n",
            "Abhisek\n"
          ]
        }
      ]
    },
    {
      "cell_type": "code",
      "metadata": {
        "colab": {
          "base_uri": "https://localhost:8080/"
        },
        "id": "UvPXLLMZLXmm",
        "outputId": "0802606f-b0cf-4079-c217-ee08fb400a24"
      },
      "source": [
        "class student:\n",
        "  max_capacity = 60\n",
        "  pass\n",
        "B_Tech_1st_year = student()\n",
        "B_Tech_2nd_year = student()\n",
        "B_Tech_3rd_year = student()\n",
        "B_Tech_4th_year = student()\n",
        "B_Tech_1st_year.alloted_students = 60\n",
        "B_Tech_2nd_year.alloted_students = 50\n",
        "B_Tech_3rd_year.alloted_students = 49\n",
        "B_Tech_4th_year.alloted_students = 45\n",
        "print(\"max_capacity of B.Tech 1st/2nd/3rd/4th year=\",student.max_capacity)\n",
        "print(\"1st year\",B_Tech_1st_year.__dict__)\n",
        "print(\"2nd year\",B_Tech_2nd_year.__dict__)\n",
        "print(\"3rd year\",B_Tech_3rd_year.__dict__)\n",
        "print(\"4th year\",B_Tech_4th_year.__dict__)"
      ],
      "execution_count": 70,
      "outputs": [
        {
          "output_type": "stream",
          "name": "stdout",
          "text": [
            "max_capacity of B.Tech 1st/2nd/3rd/4th year= 60\n",
            "1st year {'alloted_students': 60}\n",
            "2nd year {'alloted_students': 50}\n",
            "3rd year {'alloted_students': 49}\n",
            "4th year {'alloted_students': 45}\n"
          ]
        }
      ]
    }
  ]
}